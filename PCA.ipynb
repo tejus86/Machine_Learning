{
 "cells": [
  {
   "cell_type": "code",
   "execution_count": 1,
   "metadata": {},
   "outputs": [],
   "source": [
    "from sklearn.datasets import load_wine"
   ]
  },
  {
   "cell_type": "code",
   "execution_count": 2,
   "metadata": {},
   "outputs": [],
   "source": [
    "data = load_wine()"
   ]
  },
  {
   "cell_type": "code",
   "execution_count": 3,
   "metadata": {},
   "outputs": [],
   "source": [
    "x =data.data\n",
    "y = data.target"
   ]
  },
  {
   "cell_type": "code",
   "execution_count": 4,
   "metadata": {},
   "outputs": [],
   "source": [
    "from sklearn.model_selection import train_test_split\n",
    "x_train,x_test,y_train,y_test = train_test_split(x,y,test_size=0.3,\n",
    "                                                random_state=0)"
   ]
  },
  {
   "cell_type": "code",
   "execution_count": 5,
   "metadata": {},
   "outputs": [],
   "source": [
    "from sklearn.preprocessing import StandardScaler\n",
    "sc = StandardScaler()"
   ]
  },
  {
   "cell_type": "code",
   "execution_count": 6,
   "metadata": {},
   "outputs": [],
   "source": [
    "x_train = sc.fit_transform(x_train)  # perform standarization for features\n",
    "x_test = sc.transform(x_test)"
   ]
  },
  {
   "cell_type": "code",
   "execution_count": 7,
   "metadata": {},
   "outputs": [],
   "source": [
    "from sklearn.decomposition import PCA"
   ]
  },
  {
   "cell_type": "code",
   "execution_count": 8,
   "metadata": {},
   "outputs": [],
   "source": [
    "pca = PCA()  # for pac only x component is given\n",
    "x_train = pca.fit_transform(x_train)\n",
    "x_test = pca.transform(x_test)"
   ]
  },
  {
   "cell_type": "code",
   "execution_count": 9,
   "metadata": {},
   "outputs": [
    {
     "data": {
      "text/plain": [
       "(124, 13)"
      ]
     },
     "execution_count": 9,
     "metadata": {},
     "output_type": "execute_result"
    }
   ],
   "source": [
    "x_train.shape"
   ]
  },
  {
   "cell_type": "code",
   "execution_count": 10,
   "metadata": {},
   "outputs": [
    {
     "data": {
      "text/plain": [
       "array([-0.72665938,  0.50097104,  0.26667103, -0.16359762, -1.04739225,\n",
       "        0.62024294,  0.13837203, -0.44219799,  0.84001126,  1.59887819,\n",
       "        0.1202279 , -0.70714519, -0.4592388 , -0.51438834,  0.56104361,\n",
       "       -0.38242748,  2.0635675 , -1.00895904, -0.88310174,  0.11533449,\n",
       "        0.2055104 , -0.51409203,  0.06051075,  1.6396541 ,  0.66707023,\n",
       "       -0.67744753, -0.53678574,  0.40680103, -0.55173904,  0.66105728,\n",
       "        0.80997656, -0.12579377,  0.66505434, -0.78093485, -1.07516707,\n",
       "        0.60828977,  0.62644127,  0.50434624, -0.21292553,  1.66378835,\n",
       "       -0.12933027, -0.75699583, -0.05000903, -0.21966952,  0.08782901,\n",
       "        1.96706503,  0.24264705, -0.23189567, -0.17180202, -0.22543877,\n",
       "        1.23547774,  0.46301221, -0.19828414,  0.67092727,  0.29211421,\n",
       "       -0.23763595, -0.76172399,  0.04065829,  0.2861856 , -0.54999471,\n",
       "        1.26117943,  0.06603982,  0.86824667,  1.77163186, -0.59230655,\n",
       "       -0.2837175 , -0.25362216, -1.03189851, -0.56753205, -0.02027152,\n",
       "       -1.19981637, -0.35834128,  1.00294352, -0.59823324, -0.44484032,\n",
       "       -0.61093439, -1.31381481,  0.82379657, -1.14668499,  1.38695248,\n",
       "        0.68543764, -0.14668898, -1.72342244,  0.57216233,  0.05237974,\n",
       "        0.03948585, -0.3628204 ,  0.00566511, -0.45516648, -0.0397423 ,\n",
       "       -0.55838253,  0.97516677,  1.0222244 ,  0.84359905, -0.60898195,\n",
       "       -1.16958378, -0.6870355 , -0.36332664,  1.43519973,  0.21638443,\n",
       "        0.00641664,  1.93580677, -0.00420907,  0.25220361, -1.34236666,\n",
       "       -0.0999382 ,  0.52087439, -0.40804736, -0.1557391 , -1.57807246,\n",
       "       -1.19757715, -0.35153672, -0.15444272,  0.37147903,  0.41647188,\n",
       "       -0.01248382, -0.14616831, -0.99729845, -0.47272414,  0.04955645,\n",
       "       -0.87140325, -0.18561556, -0.42660403,  0.07312403])"
      ]
     },
     "execution_count": 10,
     "metadata": {},
     "output_type": "execute_result"
    }
   ],
   "source": [
    "x_train[:,5]  # 1st 5 rows and all columns"
   ]
  },
  {
   "cell_type": "code",
   "execution_count": 11,
   "metadata": {},
   "outputs": [
    {
     "data": {
      "text/plain": [
       "array([0.37329648, 0.18818926, 0.10896791, 0.07724389, 0.06478595,\n",
       "       0.04592014, 0.03986936, 0.02521914, 0.02258181, 0.01830924,\n",
       "       0.01635336, 0.01284271, 0.00642076])"
      ]
     },
     "execution_count": 11,
     "metadata": {},
     "output_type": "execute_result"
    }
   ],
   "source": [
    "pca.explained_variance_ratio_ #drawback is we dont known which value belongs to which columns. It is a combination of different columns"
   ]
  },
  {
   "cell_type": "code",
   "execution_count": 12,
   "metadata": {},
   "outputs": [
    {
     "data": {
      "text/plain": [
       "array([0.37329648, 0.56148574, 0.67045365, 0.74769754, 0.81248349,\n",
       "       0.85840362, 0.89827298, 0.92349212, 0.94607393, 0.96438317,\n",
       "       0.98073654, 0.99357924, 1.        ])"
      ]
     },
     "execution_count": 12,
     "metadata": {},
     "output_type": "execute_result"
    }
   ],
   "source": [
    "import numpy as np\n",
    "var = np.cumsum(pca.explained_variance_ratio_)  # sorted in ascending order\n",
    "var # cumsum: cumulative sum"
   ]
  },
  {
   "cell_type": "code",
   "execution_count": 13,
   "metadata": {},
   "outputs": [],
   "source": [
    "import matplotlib.pyplot as plt\n",
    "%matplotlib inline"
   ]
  },
  {
   "cell_type": "code",
   "execution_count": 14,
   "metadata": {},
   "outputs": [
    {
     "data": {
      "text/plain": [
       "[<matplotlib.lines.Line2D at 0x8cff65e7c0>]"
      ]
     },
     "execution_count": 14,
     "metadata": {},
     "output_type": "execute_result"
    },
    {
     "data": {
      "image/png": "[encoded data removed]",
      "text/plain": [
       "<Figure size 432x288 with 1 Axes>"
      ]
     },
     "metadata": {
      "needs_background": "light"
     },
     "output_type": "display_data"
    }
   ],
   "source": [
    "plt.plot(var) #x-axis is no of columns=13(0 to 12)"
   ]
  },
  {
   "cell_type": "code",
   "execution_count": 15,
   "metadata": {},
   "outputs": [],
   "source": [
    "pca = PCA(n_components = 8)  #n_components = specify the column no to reduce. \n",
    "x_train = pca.fit_transform(x_train)\n",
    "x_test = pca.transform(x_test)"
   ]
  },
  {
   "cell_type": "code",
   "execution_count": 16,
   "metadata": {},
   "outputs": [
    {
     "data": {
      "text/plain": [
       "(124, 8)"
      ]
     },
     "execution_count": 16,
     "metadata": {},
     "output_type": "execute_result"
    }
   ],
   "source": [
    "x_train.shape  # reduced no of columns from 13 to 8"
   ]
  },
  {
   "cell_type": "code",
   "execution_count": 17,
   "metadata": {},
   "outputs": [
    {
     "data": {
      "text/plain": [
       "array([-0.72665938,  0.50097104,  0.26667103, -0.16359762, -1.04739225,\n",
       "        0.62024294,  0.13837203, -0.44219799,  0.84001126,  1.59887819,\n",
       "        0.1202279 , -0.70714519, -0.4592388 , -0.51438834,  0.56104361,\n",
       "       -0.38242748,  2.0635675 , -1.00895904, -0.88310174,  0.11533449,\n",
       "        0.2055104 , -0.51409203,  0.06051075,  1.6396541 ,  0.66707023,\n",
       "       -0.67744753, -0.53678574,  0.40680103, -0.55173904,  0.66105728,\n",
       "        0.80997656, -0.12579377,  0.66505434, -0.78093485, -1.07516707,\n",
       "        0.60828977,  0.62644127,  0.50434624, -0.21292553,  1.66378835,\n",
       "       -0.12933027, -0.75699583, -0.05000903, -0.21966952,  0.08782901,\n",
       "        1.96706503,  0.24264705, -0.23189567, -0.17180202, -0.22543877,\n",
       "        1.23547774,  0.46301221, -0.19828414,  0.67092727,  0.29211421,\n",
       "       -0.23763595, -0.76172399,  0.04065829,  0.2861856 , -0.54999471,\n",
       "        1.26117943,  0.06603982,  0.86824667,  1.77163186, -0.59230655,\n",
       "       -0.2837175 , -0.25362216, -1.03189851, -0.56753205, -0.02027152,\n",
       "       -1.19981637, -0.35834128,  1.00294352, -0.59823324, -0.44484032,\n",
       "       -0.61093439, -1.31381481,  0.82379657, -1.14668499,  1.38695248,\n",
       "        0.68543764, -0.14668898, -1.72342244,  0.57216233,  0.05237974,\n",
       "        0.03948585, -0.3628204 ,  0.00566511, -0.45516648, -0.0397423 ,\n",
       "       -0.55838253,  0.97516677,  1.0222244 ,  0.84359905, -0.60898195,\n",
       "       -1.16958378, -0.6870355 , -0.36332664,  1.43519973,  0.21638443,\n",
       "        0.00641664,  1.93580677, -0.00420907,  0.25220361, -1.34236666,\n",
       "       -0.0999382 ,  0.52087439, -0.40804736, -0.1557391 , -1.57807246,\n",
       "       -1.19757715, -0.35153672, -0.15444272,  0.37147903,  0.41647188,\n",
       "       -0.01248382, -0.14616831, -0.99729845, -0.47272414,  0.04955645,\n",
       "       -0.87140325, -0.18561556, -0.42660403,  0.07312403])"
      ]
     },
     "execution_count": 17,
     "metadata": {},
     "output_type": "execute_result"
    }
   ],
   "source": [
    "x_train[:,5] # transformed values"
   ]
  },
  {
   "cell_type": "code",
   "execution_count": 18,
   "metadata": {},
   "outputs": [],
   "source": [
    "from sklearn.naive_bayes import GaussianNB\n",
    "from sklearn.tree import DecisionTreeClassifier\n",
    "from sklearn.ensemble import RandomForestClassifier"
   ]
  },
  {
   "cell_type": "code",
   "execution_count": 19,
   "metadata": {},
   "outputs": [],
   "source": [
    "classifier1 = GaussianNB()\n",
    "classifier2 = DecisionTreeClassifier(criterion = 'entropy')\n",
    "classifier3 = RandomForestClassifier(n_estimators=20, criterion='entropy')"
   ]
  },
  {
   "cell_type": "code",
   "execution_count": 20,
   "metadata": {},
   "outputs": [
    {
     "data": {
      "text/plain": [
       "RandomForestClassifier(criterion='entropy', n_estimators=20)"
      ]
     },
     "execution_count": 20,
     "metadata": {},
     "output_type": "execute_result"
    }
   ],
   "source": [
    "classifier1.fit(x_train,y_train)\n",
    "classifier2.fit(x_train,y_train)\n",
    "classifier3.fit(x_train,y_train)"
   ]
  },
  {
   "cell_type": "code",
   "execution_count": 21,
   "metadata": {},
   "outputs": [],
   "source": [
    "y_pred1 = classifier1.predict(x_test)\n",
    "y_pred2 = classifier2.predict(x_test)\n",
    "y_pred3 = classifier3.predict(x_test)"
   ]
  },
  {
   "cell_type": "code",
   "execution_count": 22,
   "metadata": {},
   "outputs": [],
   "source": [
    "from sklearn.metrics import confusion_matrix, accuracy_score"
   ]
  },
  {
   "cell_type": "code",
   "execution_count": 23,
   "metadata": {},
   "outputs": [
    {
     "name": "stdout",
     "output_type": "stream",
     "text": [
      "1.0\n"
     ]
    }
   ],
   "source": [
    "print(accuracy_score(y_test,y_pred1))"
   ]
  },
  {
   "cell_type": "code",
   "execution_count": 24,
   "metadata": {},
   "outputs": [
    {
     "name": "stdout",
     "output_type": "stream",
     "text": [
      "0.9629629629629629\n"
     ]
    }
   ],
   "source": [
    "print(accuracy_score(y_test,y_pred2))"
   ]
  },
  {
   "cell_type": "code",
   "execution_count": 25,
   "metadata": {},
   "outputs": [
    {
     "name": "stdout",
     "output_type": "stream",
     "text": [
      "0.9814814814814815\n"
     ]
    }
   ],
   "source": [
    "print(accuracy_score(y_test,y_pred3))"
   ]
  },
  {
   "cell_type": "code",
   "execution_count": null,
   "metadata": {},
   "outputs": [],
   "source": []
  }
 ],
 "metadata": {
  "kernelspec": {
   "display_name": "Python 3 (ipykernel)",
   "language": "python",
   "name": "python3"
  },
  "language_info": {
   "codemirror_mode": {
    "name": "ipython",
    "version": 3
   },
   "file_extension": ".py",
   "mimetype": "text/x-python",
   "name": "python",
   "nbconvert_exporter": "python",
   "pygments_lexer": "ipython3",
   "version": "3.9.7"
  }
 },
 "nbformat": 4,
 "nbformat_minor": 4
}
